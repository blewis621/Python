{
 "cells": [
  {
   "cell_type": "markdown",
   "id": "9c99a058",
   "metadata": {},
   "source": [
    "# 01 Importing Libraries"
   ]
  },
  {
   "cell_type": "code",
   "execution_count": 1,
   "id": "f46f23bd",
   "metadata": {},
   "outputs": [],
   "source": [
    "# Import Libraries\n",
    "import pandas as pd\n",
    "import numpy as np\n",
    "import os"
   ]
  },
  {
   "cell_type": "markdown",
   "id": "14f3767f",
   "metadata": {},
   "source": [
    "# 02 Data Types"
   ]
  },
  {
   "cell_type": "code",
   "execution_count": 32,
   "id": "c3f2bc54",
   "metadata": {},
   "outputs": [],
   "source": [
    "x = 50"
   ]
  },
  {
   "cell_type": "code",
   "execution_count": 33,
   "id": "f6148fd9",
   "metadata": {},
   "outputs": [],
   "source": [
    "y = 25"
   ]
  },
  {
   "cell_type": "code",
   "execution_count": 34,
   "id": "c000ae70",
   "metadata": {},
   "outputs": [
    {
     "data": {
      "text/plain": [
       "100"
      ]
     },
     "execution_count": 34,
     "metadata": {},
     "output_type": "execute_result"
    }
   ],
   "source": [
    "x + y + y"
   ]
  },
  {
   "cell_type": "code",
   "execution_count": 37,
   "id": "853e4887",
   "metadata": {},
   "outputs": [],
   "source": [
    "z = 200"
   ]
  },
  {
   "cell_type": "code",
   "execution_count": 38,
   "id": "48392da9",
   "metadata": {},
   "outputs": [
    {
     "data": {
      "text/plain": [
       "100"
      ]
     },
     "execution_count": 38,
     "metadata": {},
     "output_type": "execute_result"
    }
   ],
   "source": [
    "z - (x *2)"
   ]
  },
  {
   "cell_type": "code",
   "execution_count": 39,
   "id": "f8e077af",
   "metadata": {},
   "outputs": [
    {
     "data": {
      "text/plain": [
       "100"
      ]
     },
     "execution_count": 39,
     "metadata": {},
     "output_type": "execute_result"
    }
   ],
   "source": [
    "z - (x + y +y)"
   ]
  },
  {
   "cell_type": "code",
   "execution_count": 9,
   "id": "669d63b0",
   "metadata": {},
   "outputs": [],
   "source": [
    "m = 25.75"
   ]
  },
  {
   "cell_type": "code",
   "execution_count": 10,
   "id": "a8cacece",
   "metadata": {},
   "outputs": [],
   "source": [
    "n = 5.25"
   ]
  },
  {
   "cell_type": "code",
   "execution_count": 11,
   "id": "cd62043d",
   "metadata": {},
   "outputs": [
    {
     "data": {
      "text/plain": [
       "4.904761904761905"
      ]
     },
     "execution_count": 11,
     "metadata": {},
     "output_type": "execute_result"
    }
   ],
   "source": [
    "m/n"
   ]
  },
  {
   "cell_type": "code",
   "execution_count": 12,
   "id": "b7f9ffc2",
   "metadata": {},
   "outputs": [],
   "source": [
    "a = 'fr'"
   ]
  },
  {
   "cell_type": "code",
   "execution_count": 13,
   "id": "164ae801",
   "metadata": {},
   "outputs": [],
   "source": [
    "b = 'uit'"
   ]
  },
  {
   "cell_type": "code",
   "execution_count": 14,
   "id": "2a819006",
   "metadata": {},
   "outputs": [
    {
     "data": {
      "text/plain": [
       "'fruit'"
      ]
     },
     "execution_count": 14,
     "metadata": {},
     "output_type": "execute_result"
    }
   ],
   "source": [
    "a + (b)"
   ]
  },
  {
   "cell_type": "code",
   "execution_count": 16,
   "id": "a95ad12a",
   "metadata": {},
   "outputs": [],
   "source": [
    "c = 'I'"
   ]
  },
  {
   "cell_type": "code",
   "execution_count": 17,
   "id": "4ee906d7",
   "metadata": {},
   "outputs": [],
   "source": [
    "d = 'love'"
   ]
  },
  {
   "cell_type": "code",
   "execution_count": 18,
   "id": "cc70d252",
   "metadata": {},
   "outputs": [],
   "source": [
    "e = 'you'"
   ]
  },
  {
   "cell_type": "code",
   "execution_count": 19,
   "id": "0fdeffe1",
   "metadata": {},
   "outputs": [],
   "source": [
    "f = 'ice cream'"
   ]
  },
  {
   "cell_type": "code",
   "execution_count": 20,
   "id": "b90ebc67",
   "metadata": {},
   "outputs": [
    {
     "data": {
      "text/plain": [
       "'Iloveyou'"
      ]
     },
     "execution_count": 20,
     "metadata": {},
     "output_type": "execute_result"
    }
   ],
   "source": [
    "c + d + e"
   ]
  },
  {
   "cell_type": "code",
   "execution_count": 21,
   "id": "a8156308",
   "metadata": {},
   "outputs": [
    {
     "data": {
      "text/plain": [
       "'Iloveice cream'"
      ]
     },
     "execution_count": 21,
     "metadata": {},
     "output_type": "execute_result"
    }
   ],
   "source": [
    "c + d + f"
   ]
  }
 ],
 "metadata": {
  "kernelspec": {
   "display_name": "Python 3 (ipykernel)",
   "language": "python",
   "name": "python3"
  },
  "language_info": {
   "codemirror_mode": {
    "name": "ipython",
    "version": 3
   },
   "file_extension": ".py",
   "mimetype": "text/x-python",
   "name": "python",
   "nbconvert_exporter": "python",
   "pygments_lexer": "ipython3",
   "version": "3.10.9"
  }
 },
 "nbformat": 4,
 "nbformat_minor": 5
}
